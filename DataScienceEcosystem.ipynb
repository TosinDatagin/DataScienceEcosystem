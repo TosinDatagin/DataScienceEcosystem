{
 "cells": [
  {
   "cell_type": "markdown",
   "id": "4d625681-2f1a-4e59-a359-a5d6bd78f4ee",
   "metadata": {},
   "source": [
    "# Data Science Tools and Ecosystem "
   ]
  },
  {
   "cell_type": "markdown",
   "id": "e534a791-f0b5-43d9-8293-d34293fd5bb1",
   "metadata": {},
   "source": [
    "### In this notebook, Data Science Tools and Ecosystem are summarized."
   ]
  },
  {
   "cell_type": "markdown",
   "id": "b9f0f96c-0ad6-4d58-8a6f-158cd9e1b029",
   "metadata": {},
   "source": [
    "Some of the popular languages that Data Scientists use are:"
   ]
  },
  {
   "cell_type": "markdown",
   "id": "6543bb64-072e-48f3-bc6a-1fa49e4f5aea",
   "metadata": {},
   "source": [
    "1. Python\n",
    "2. R\n",
    "3. SQL\n",
    "4. Java\n",
    "5. JavaScript\n",
    "6. Julia"
   ]
  },
  {
   "cell_type": "markdown",
   "id": "06dfecda-7c0e-4132-aa24-0eedff0ac82b",
   "metadata": {},
   "source": [
    "Some of the commonly used libraries used by Data Scientists include:"
   ]
  },
  {
   "cell_type": "markdown",
   "id": "af90e3fb-7a35-4123-a463-5a86ef61495f",
   "metadata": {},
   "source": [
    "1. Pandas\n",
    "2. Numpy\n",
    "3. Matplotlib\n",
    "4. Scikit-learn\n",
    "5. Scipy\n",
    "6. Seaborn"
   ]
  },
  {
   "cell_type": "code",
   "execution_count": null,
   "id": "244612bc-4023-4793-a4b9-481e4593b5a1",
   "metadata": {},
   "outputs": [],
   "source": []
  },
  {
   "cell_type": "markdown",
   "id": "2a8b2ef8-5855-42df-ad5d-3414853a513a",
   "metadata": {},
   "source": [
    "|Data Science Tools|\n",
    "|------------------|\n",
    "| Jupyter Notebooks| \n",
    "| RStudio |\n",
    "| Git/GitHub |\n"
   ]
  },
  {
   "cell_type": "markdown",
   "id": "5a45d0d3-02c0-4ba1-b917-89d0f2e01da0",
   "metadata": {},
   "source": [
    "### Below are a few examples of evaluating arithmetic expressions in Python"
   ]
  },
  {
   "cell_type": "markdown",
   "id": "547afe2e-80d1-42f6-90db-fd6cf8e5a897",
   "metadata": {},
   "source": [
    "This a simple arithmetic expression to mutiply then add integers."
   ]
  },
  {
   "cell_type": "code",
   "execution_count": 23,
   "id": "8d152f27-3658-4b1e-a0b3-cd68eab874a7",
   "metadata": {},
   "outputs": [
    {
     "data": {
      "text/plain": [
       "17.0"
      ]
     },
     "execution_count": 23,
     "metadata": {},
     "output_type": "execute_result"
    }
   ],
   "source": [
    "(3*4)+5."
   ]
  },
  {
   "cell_type": "markdown",
   "id": "d8c3fc37-2c99-49fa-9bf9-ac72130e8edb",
   "metadata": {},
   "source": [
    "This will convert 200 minutes to hours by diving by 60"
   ]
  },
  {
   "cell_type": "code",
   "execution_count": 26,
   "id": "a8e20278-047c-4c13-bbd5-9fb24ba64fc2",
   "metadata": {},
   "outputs": [
    {
     "data": {
      "text/plain": [
       "3.3333333333333335"
      ]
     },
     "execution_count": 26,
     "metadata": {},
     "output_type": "execute_result"
    }
   ],
   "source": [
    "200/60"
   ]
  },
  {
   "cell_type": "markdown",
   "id": "9cbe47f4-8f4c-4741-88f4-c25141f05438",
   "metadata": {},
   "source": [
    "Objectives: "
   ]
  },
  {
   "cell_type": "markdown",
   "id": "ec2745c2-87e7-41d7-8f3a-371184abaab2",
   "metadata": {},
   "source": [
    "* Create a Jupyter Notebook\n",
    "\n",
    "* Insert code and markdown cells\n",
    "\n",
    "* Share your notebook through GitHub"
   ]
  },
  {
   "cell_type": "markdown",
   "id": "66fa78ae-8471-4869-b356-483d51aca2a9",
   "metadata": {
    "jp-MarkdownHeadingCollapsed": true
   },
   "source": [
    " ## Author\n",
    "Oluwasegun Oluwatosin John"
   ]
  },
  {
   "cell_type": "code",
   "execution_count": null,
   "id": "1d6a04c9-be23-4391-bd2f-98a149428366",
   "metadata": {},
   "outputs": [],
   "source": []
  }
 ],
 "metadata": {
  "kernelspec": {
   "display_name": "Python [conda env:base] *",
   "language": "python",
   "name": "conda-base-py"
  },
  "language_info": {
   "codemirror_mode": {
    "name": "ipython",
    "version": 3
   },
   "file_extension": ".py",
   "mimetype": "text/x-python",
   "name": "python",
   "nbconvert_exporter": "python",
   "pygments_lexer": "ipython3",
   "version": "3.12.7"
  }
 },
 "nbformat": 4,
 "nbformat_minor": 5
}
